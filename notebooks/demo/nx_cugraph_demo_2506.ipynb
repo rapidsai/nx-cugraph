{
 "cells": [
  {
   "cell_type": "markdown",
   "metadata": {
    "id": "h0kSy-Zivfah"
   },
   "source": [
    "# Accelerating NetworkX via `nx-cugraph` Backend"
   ]
  },
  {
   "cell_type": "markdown",
   "metadata": {
    "id": "D_s26_LL1waR"
   },
   "source": [
    "The easiest way to enable `nx-cugraph`:\n",
    "- set `NX_CUGRAPH_AUTOCONFIG` environment variable before importing NetworkX\n",
    "\n",
    "That's it!\n",
    "\n",
    "Zero code change acceleration on a NVIDIA GPU is ready to go."
   ]
  },
  {
   "cell_type": "code",
   "execution_count": null,
   "metadata": {
    "id": "o1m8FQivvJxY"
   },
   "outputs": [],
   "source": [
    "# If you're curious (and patient), try to run the notebook without running this cell to run with pure NetworkX\n",
    "%env NX_CUGRAPH_AUTOCONFIG=True"
   ]
  },
  {
   "cell_type": "code",
   "execution_count": null,
   "metadata": {
    "id": "532x-3dqh62d"
   },
   "outputs": [],
   "source": [
    "import networkx as nx\n",
    "import numpy as np\n",
    "import pandas as pd\n",
    "nx.config.warnings_to_ignore.add(\"cache\")  # Ignore caching warnings"
   ]
  },
  {
   "cell_type": "markdown",
   "metadata": {
    "id": "CfEYlBm5yI76"
   },
   "source": [
    "Display info about available GPUs and current CUDA version:"
   ]
  },
  {
   "cell_type": "code",
   "execution_count": null,
   "metadata": {
    "id": "53j_QJjltV2R"
   },
   "outputs": [],
   "source": [
    "!nvidia-smi"
   ]
  },
  {
   "cell_type": "markdown",
   "metadata": {
    "id": "OotTa59Gym5R"
   },
   "source": [
    "### Let's explore the Pokec social network dataset\n",
    "Download and unzip from [SNAP  repository](https://snap.stanford.edu/data/soc-Pokec.html)\n",
    "\n",
    "> Pokec is the most popular Slovak on-line social network. These datasets\n",
    "are anonymized and contains relationships and user profile data of the\n",
    "whole network. Profile data are in Slovak language. Friendships in the\n",
    "Pokec network are oriented. Datasets were crawled during MAY 25-27 2012.\n",
    ">\n",
    "> Author: Lubos Takac, lubos.takac@gmail.com"
   ]
  },
  {
   "cell_type": "code",
   "execution_count": null,
   "metadata": {
    "id": "ha0Kj3dBiGfB"
   },
   "outputs": [],
   "source": [
    "%%bash\n",
    "if [[ ! -f soc-pokec-relationships.txt ]]; then\n",
    "  wget -nc -q \"https://snap.stanford.edu/data/soc-pokec-relationships.txt.gz\"\n",
    "  wget -nc -q \"https://snap.stanford.edu/data/soc-pokec-profiles.txt.gz\"\n",
    "  wget -nc -q \"https://snap.stanford.edu/data/soc-pokec-readme.txt\"\n",
    "  gunzip *.gz\n",
    "else\n",
    "  echo \"pokec dataset already downloaded :)\"\n",
    "fi"
   ]
  },
  {
   "cell_type": "code",
   "execution_count": null,
   "metadata": {
    "id": "BLuqntzejkeu"
   },
   "outputs": [],
   "source": [
    "# Show size of files\n",
    "!du -csh soc-pokec*"
   ]
  },
  {
   "cell_type": "code",
   "execution_count": null,
   "metadata": {
    "id": "YsjJYpEo0Dqu"
   },
   "outputs": [],
   "source": [
    "# Uncomment to look at the README\n",
    "# !cat soc-pokec-readme.txt"
   ]
  },
  {
   "cell_type": "code",
   "execution_count": null,
   "metadata": {
    "id": "MMBlyNlvjqxK"
   },
   "outputs": [],
   "source": [
    "edgelist_filepath = \"soc-pokec-relationships.txt\"\n",
    "profiles_filepath = \"soc-pokec-profiles.txt\"\n",
    "readme_filepath = \"soc-pokec-readme.txt\""
   ]
  },
  {
   "cell_type": "markdown",
   "metadata": {
    "id": "u6ocwD9L3Ktv"
   },
   "source": [
    "Load profile data; each row is a user's Pocek profile. In our graph, the nodes represent profiles. Try using this to filter based on user properties"
   ]
  },
  {
   "cell_type": "code",
   "execution_count": null,
   "metadata": {
    "id": "V7nnlpxqjuUi"
   },
   "outputs": [],
   "source": [
    "# Load node data. List of columns provided by README\n",
    "col_names = [\"user_id\",\"public\",\"completion_percentage\",\"gender\",\"region\",\"last_login\",\"registration\",\"AGE\",\"body\",\"I_am_working_in_field\",\"spoken_languages\",\"hobbies\",\"I_most_enjoy_good_food\",\"pets\",\"body_type\",\"my_eyesight\",\"eye_color\",\"hair_color\",\"hair_type\",\"completed_level_of_education\",\"favourite_color\",\"relation_to_smoking\",\"relation_to_alcohol\",\"sign_in_zodiac\",\"on_pokec_i_am_looking_for\",\"love_is_for_me\",\"relation_to_casual_sex\",\"my_partner_should_be\",\"marital_status\",\"children\",\"relation_to_children\",\"I_like_movies\",\"I_like_watching_movie\",\"I_like_music\",\"I_mostly_like_listening_to_music\",\"the_idea_of_good_evening\",\"I_like_specialties_from_kitchen\",\"fun\",\"I_am_going_to_concerts\",\"my_active_sports\",\"my_passive_sports\",\"profession\",\"I_like_books\",\"life_style\",\"music\",\"cars\",\"politics\",\"relationships\",\"art_culture\",\"hobbies_interests\",\"science_technologies\",\"computers_internet\",\"education\",\"sport\",\"movies\",\"travelling\",\"health\",\"companies_brands\",\"more\"]\n",
    "profiles_df = pd.read_csv(\n",
    "    profiles_filepath,\n",
    "    sep=\"\\t\",\n",
    "    names=col_names,\n",
    "    index_col=False\n",
    ")\n",
    "profiles_df.head()"
   ]
  },
  {
   "cell_type": "code",
   "execution_count": null,
   "metadata": {
    "id": "rV8AZXvdM16y"
   },
   "outputs": [],
   "source": [
    "# We're not yet using this data, so delete for now to save memory\n",
    "del profiles_df"
   ]
  },
  {
   "cell_type": "markdown",
   "metadata": {
    "id": "GWLtnhx836FA"
   },
   "source": [
    "Load edge data, which is the `user_id` of the source and target node. An edge represents a friendship between users."
   ]
  },
  {
   "cell_type": "code",
   "execution_count": null,
   "metadata": {
    "id": "LHtzewV62h7c"
   },
   "outputs": [],
   "source": [
    "!head soc-pokec-relationships.txt"
   ]
  },
  {
   "cell_type": "code",
   "execution_count": null,
   "metadata": {
    "id": "LGCLCLDWj0lG"
   },
   "outputs": [],
   "source": [
    "relationships_df = pd.read_csv(\n",
    "    edgelist_filepath,\n",
    "    sep=\"\\t\",\n",
    "    names=[\"src\", \"dst\"]\n",
    ")\n",
    "relationships_df.shape"
   ]
  },
  {
   "cell_type": "markdown",
   "metadata": {
    "id": "4Z8NeoKu4NBf"
   },
   "source": [
    "## Create Graphs on GPU\n",
    "\n",
    "The very first use of the GPU may take a second to load and initialize"
   ]
  },
  {
   "cell_type": "code",
   "execution_count": null,
   "metadata": {
    "id": "0Kq7SL9evl_Q"
   },
   "outputs": [],
   "source": [
    "%%time\n",
    "nx.empty_graph(backend=\"cugraph\")"
   ]
  },
  {
   "cell_type": "markdown",
   "metadata": {
    "id": "ySuDb_EZ4_h1"
   },
   "source": [
    "but don't worry--using the GPU should be much quicker once it's warmed up!"
   ]
  },
  {
   "cell_type": "code",
   "execution_count": null,
   "metadata": {
    "id": "x6C2ADnQ0lL4"
   },
   "outputs": [],
   "source": [
    "%%time\n",
    "nx.empty_graph(backend=\"cugraph\")"
   ]
  },
  {
   "cell_type": "markdown",
   "metadata": {
    "id": "yu_aigDn56VJ"
   },
   "source": [
    "### Use `nx.from_pandas_edgelist` to create a graph from edge data\n",
    "\n",
    "If the `NX_CUGRAPH_AUTOCONFIG` env var was set at the beginning,\n",
    "this will automatically call the nx-cugraph backend and return a graph on the GPU.\n",
    "\n",
    "**Heads up: this runs for more than a minute with pure NetworkX**"
   ]
  },
  {
   "cell_type": "code",
   "execution_count": null,
   "metadata": {
    "id": "wX5x_fECj7uU"
   },
   "outputs": [],
   "source": [
    "%%time\n",
    "G = nx.from_pandas_edgelist(\n",
    "    relationships_df,\n",
    "    source=\"src\",\n",
    "    target=\"dst\",\n",
    "    edge_attr=None,\n",
    "    # create_using=nx.DiGraph,  # The original dataset is directed\n",
    "    create_using=nx.Graph,  # Alternative that symmetrizes edges\n",
    ")\n",
    "type(G)"
   ]
  },
  {
   "cell_type": "markdown",
   "metadata": {
    "id": "JTLi-SDzafgT"
   },
   "source": [
    "## Now let's run some common Graph algorithms and visualize the results.\n",
    "\n",
    "Visualizing summary statistics and metrics is a simple way to begin to understand a dataset.\n",
    "\n",
    "We'll begin by plotting the histogram of common algorithms using `bokeh`. We will show two plots:\n",
    "- Left plot is normal y scale\n",
    "- Right plot is log y scale"
   ]
  },
  {
   "cell_type": "code",
   "execution_count": null,
   "metadata": {
    "id": "TiOCJV-zfJ7n"
   },
   "outputs": [],
   "source": [
    "from bokeh.plotting import figure, show\n",
    "from bokeh.io import output_notebook\n",
    "from bokeh.layouts import row\n",
    "\n",
    "output_notebook()"
   ]
  },
  {
   "cell_type": "code",
   "execution_count": null,
   "metadata": {
    "id": "CvASiZMSa608"
   },
   "outputs": [],
   "source": [
    "def plot_hist(result, title=\"\"):\n",
    "  \"\"\"Plot the histogram of results; the right plot is logscale y\"\"\"\n",
    "  y, x = np.histogram(list(result.values()), bins=400)\n",
    "  x = x[:-1]\n",
    "  p = figure(width=400, height=400)\n",
    "  p.scatter(x=x, y=y)\n",
    "  p_log = figure(width=400, height=400, y_axis_type=\"log\", title=f\"{title} (log y)\")\n",
    "  p_log.scatter(x=x, y=y)\n",
    "  show(row(p, p_log))"
   ]
  },
  {
   "cell_type": "code",
   "execution_count": null,
   "metadata": {
    "id": "ERORKkcNbgqi"
   },
   "outputs": [],
   "source": [
    "def plot_full(result, title=\"\"):\n",
    "  \"\"\"Plot the values, sorted; the right plot is logscale y\"\"\"\n",
    "  x = list(range(len(result)))\n",
    "  y = sorted(result.values())\n",
    "  p = figure(width=400, height=400, title=title)\n",
    "  p.scatter(x=x, y=y)\n",
    "  p_log = figure(width=400, height=400, y_axis_type=\"log\", title=f\"{title} (log y)\")\n",
    "  p_log.scatter(x=x, y=y)\n",
    "  show(row(p, p_log))"
   ]
  },
  {
   "cell_type": "code",
   "execution_count": null,
   "metadata": {
    "id": "h97miXL_Mh5r"
   },
   "outputs": [],
   "source": [
    "%%time\n",
    "nx.is_connected(G)"
   ]
  },
  {
   "cell_type": "code",
   "execution_count": null,
   "metadata": {
    "id": "8BpwsxPgLe2K"
   },
   "outputs": [],
   "source": [
    "# Even this simple measure may take a second or two with pure NetworkX\n",
    "%%time\n",
    "dc = nx.degree_centrality(G)"
   ]
  },
  {
   "cell_type": "code",
   "execution_count": null,
   "metadata": {
    "id": "N72w36qjbzrT"
   },
   "outputs": [],
   "source": [
    "plot_hist(dc, \"degree centrality\")"
   ]
  },
  {
   "cell_type": "code",
   "execution_count": null,
   "metadata": {
    "id": "jQVG8nQhOihr"
   },
   "outputs": [],
   "source": [
    "# May take a couple of minutes with pure NetworkX\n",
    "%%time\n",
    "t = nx.triangles(G)"
   ]
  },
  {
   "cell_type": "code",
   "execution_count": null,
   "metadata": {
    "id": "QqJXV_1Lb4Nb"
   },
   "outputs": [],
   "source": [
    "plot_hist(t, \"triangles\")"
   ]
  },
  {
   "cell_type": "code",
   "execution_count": null,
   "metadata": {
    "id": "_IIooAVZTFLh"
   },
   "outputs": [],
   "source": [
    "# May take a few minutes with pure NetworkX\n",
    "%%time\n",
    "pr = nx.pagerank(G)"
   ]
  },
  {
   "cell_type": "code",
   "execution_count": null,
   "metadata": {
    "id": "FpliMqQkb-nt"
   },
   "outputs": [],
   "source": [
    "plot_hist(pr, \"pagerank\")"
   ]
  },
  {
   "cell_type": "code",
   "execution_count": null,
   "metadata": {
    "id": "WvOOAPx-sv-a"
   },
   "outputs": [],
   "source": [
    "# May take a few minutes with pure NetworkX\n",
    "%%time\n",
    "cn = nx.core_number(G)"
   ]
  },
  {
   "cell_type": "code",
   "execution_count": null,
   "metadata": {
    "id": "plJW-7FMcEGa"
   },
   "outputs": [],
   "source": [
    "plot_hist(cn, \"core_number\")"
   ]
  },
  {
   "cell_type": "code",
   "execution_count": null,
   "metadata": {
    "id": "usbDR1KaTHkY"
   },
   "outputs": [],
   "source": [
    "# Very slow with pure NetworkX; perhaps try with a smaller k\n",
    "%%time\n",
    "bc = nx.betweenness_centrality(G, k=50)"
   ]
  },
  {
   "cell_type": "code",
   "execution_count": null,
   "metadata": {
    "id": "plW-7lHocIpD"
   },
   "outputs": [],
   "source": [
    "plot_hist(bc, \"betweenness centrality\")"
   ]
  },
  {
   "cell_type": "markdown",
   "metadata": {},
   "source": [
    "## Backend-only Functions\n",
    "Besides improved performance, another benefit backends provide is the ability to add functionality to NetworkX that is not present in the default implementation.\n",
    "\n",
    "NetworkX 3.5 adds the `leiden_communities` function, but still does not provide an implementation. This allows backends to implement Leiden community detection using a common function signature, so when other backends or even NetworkX provide an implemtation, users can use those without requiring code changes.\n",
    "\n",
    "### Leiden community detection\n",
    "Let's take a look at the communities in the Pokec social network dataset using `leiden_communities`"
   ]
  },
  {
   "cell_type": "code",
   "execution_count": null,
   "metadata": {},
   "outputs": [],
   "source": [
    "from networkx.algorithms.community import leiden_communities"
   ]
  },
  {
   "cell_type": "code",
   "execution_count": null,
   "metadata": {},
   "outputs": [],
   "source": [
    "%%time\n",
    "leiden_res = leiden_communities(G, seed=42, backend=\"cugraph\")"
   ]
  },
  {
   "cell_type": "markdown",
   "metadata": {},
   "source": [
    "`leiden_communities` returns a list of sets, where each set contains the node IDs making up a community in the graph."
   ]
  },
  {
   "cell_type": "code",
   "execution_count": null,
   "metadata": {},
   "outputs": [],
   "source": [
    "print(f\"Total number of extracted communities: {len(leiden_res)}\")\n",
    "\n",
    "sizes = [len(s) for s in leiden_res]\n",
    "\n",
    "print(f\"Largest community: {max(sizes)}\")\n",
    "print(f\"Smallest community: {min(sizes)}\")\n",
    "\n",
    "import statistics\n",
    "\n",
    "print(f\"Median community size: {statistics.median(sizes)}\")"
   ]
  },
  {
   "cell_type": "markdown",
   "metadata": {
    "id": "N5_rQfR7gRFX"
   },
   "source": [
    "## What to explore next?\n",
    "\n",
    "The [Facebook Network Analysis](https://networkx.org/nx-guides/content/exploratory_notebooks/facebook_notebook.html)\n",
    "example in [nx-guides](https://networkx.org/nx-guides) goes much more in depth\n",
    "and is a good tour of networkx analysis."
   ]
  },
  {
   "cell_type": "markdown",
   "metadata": {},
   "source": [
    "---\n",
    "\n",
    "### Information on the Pocek Social Network dataset used in this notebook\n",
    "\n",
    "**Authors:** Lubos Takac and Michal Zabovsky  \n",
    "**Title:** SNAP Datasets, Stanford Large Network Dataset Collection  \n",
    "**URL:** [http://snap.stanford.edu/data](http://snap.stanford.edu/data)  \n",
    "**Date:** May 2012"
   ]
  }
 ],
 "metadata": {
  "accelerator": "GPU",
  "colab": {
   "gpuType": "T4",
   "provenance": []
  },
  "kernelspec": {
   "display_name": "Python 3",
   "name": "python3"
  },
  "language_info": {
   "name": "python"
  }
 },
 "nbformat": 4,
 "nbformat_minor": 0
}

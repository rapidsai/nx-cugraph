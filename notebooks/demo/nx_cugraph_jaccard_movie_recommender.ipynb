{
 "cells": [
  {
   "cell_type": "code",
   "execution_count": null,
   "id": "544b8e4c-2f07-41c1-a8f9-c4f648f8159f",
   "metadata": {},
   "outputs": [],
   "source": [
    "import os\n",
    "import requests\n",
    "from zipfile import ZipFile\n",
    "\n",
    "# Prior to importing networkx, set the environment variable to enable nx-cugraph\n",
    "# Note: this is done here for demonstration purposes but should be done in the\n",
    "# calling environment to ensure the code is portable to systems without a GPU.\n",
    "os.environ[\"NX_CUGRAPH_AUTOCONFIG\"] = \"True\"\n",
    "\n",
    "import pandas as pd\n",
    "import networkx as nx"
   ]
  },
  {
   "cell_type": "code",
   "execution_count": null,
   "id": "e717c0c1-2510-4121-a1a2-6b8d695aff40",
   "metadata": {},
   "outputs": [],
   "source": [
    "ratings_csv = \"ml-latest/ratings.csv\"\n",
    "movies_csv = \"ml-latest/movies.csv\"\n",
    "\n",
    "if not os.path.exists(ratings_csv) or not os.path.exists(movies_csv):\n",
    "    zip_file = \"ml-latest.zip\"\n",
    "    if not os.path.exists(zip_file):\n",
    "        req = requests.get(\n",
    "            \"https://files.grouplens.org/datasets/movielens/\" + zip_file)\n",
    "        with open(zip_file, \"wb\") as f:\n",
    "            f.write(req.content)\n",
    "    with ZipFile(zip_file, \"r\") as z:\n",
    "        z.extract(ratings_csv)\n",
    "        z.extract(movies_csv)"
   ]
  },
  {
   "cell_type": "code",
   "execution_count": null,
   "id": "19ba9f34-820a-43ed-9f3b-6610f74e083f",
   "metadata": {},
   "outputs": [],
   "source": [
    "ratings_df = pd.read_csv(ratings_csv,\n",
    "                         dtype={\"userId\": \"int32\",\n",
    "                                \"movieId\": \"int32\",\n",
    "                                \"rating\": \"float32\",\n",
    "                                \"timestamp\": \"int32\",\n",
    "                                }\n",
    "                         )\n",
    "# Not using timestamp\n",
    "ratings_df.drop(columns=\"timestamp\", inplace=True)\n",
    "\n",
    "# Both user and movie IDs start at 1\n",
    "# Add offset to make userId and movieId values unique\n",
    "max_movie_id = int(ratings_df[\"movieId\"].max())\n",
    "ratings_df[\"userId\"] = ratings_df[\"userId\"] + max_movie_id\n",
    "\n",
    "all_user_ids = ratings_df[\"userId\"].unique()\n",
    "all_movie_ids = ratings_df[\"movieId\"].unique()"
   ]
  },
  {
   "cell_type": "code",
   "execution_count": null,
   "id": "641b341f-05f7-4ac0-ba77-c42fc60b8e70",
   "metadata": {},
   "outputs": [],
   "source": [
    "movie_id_name_map = {}\n",
    "with open(movies_csv) as f:\n",
    "    for line in f.readlines():\n",
    "        # Line format is: id,title,genres\n",
    "        # Title may have \",\" in them, and will be in quotes if so\n",
    "        items = line.split(\",\")\n",
    "        try:\n",
    "            mid = int(items[0])\n",
    "        except ValueError:\n",
    "            continue\n",
    "        mname = \",\".join(items[1:-1])\n",
    "        movie_id_name_map[mid] = mname"
   ]
  },
  {
   "cell_type": "code",
   "execution_count": null,
   "id": "c2ab6169-37ab-4e78-b0ac-91289a7190c9",
   "metadata": {},
   "outputs": [],
   "source": [
    "# Create a separate DataFrame containing only \"good\" reviews (rating >= 3).\n",
    "# This is used for finding similarities between good movies for\n",
    "# recommendations, since jaccard does not consider edge weights (rating value)\n",
    "# and would otherwise treat bad reviews and good reviews equally.\n",
    "good_ratings_df = ratings_df[ratings_df[\"rating\"] >= 3]\n",
    "good_user_ids = good_ratings_df[\"userId\"].unique()\n",
    "good_movie_ids = good_ratings_df[\"movieId\"].unique()\n",
    "\n",
    "print(f\"total number of users: {len(all_user_ids)}\")\n",
    "print(f\"total number of reviews: {len(ratings_df)}\")\n",
    "print(\"average number of total reviews/user: \"\n",
    "      f\"{len(ratings_df)/len(all_user_ids):.2f}\")\n",
    "print(f\"total number of users with good ratings: {len(good_user_ids)}\")\n",
    "print(f\"total number of good reviews: {len(good_ratings_df)}\")\n",
    "print(\"average number of good reviews/user: \"\n",
    "      f\"{len(good_ratings_df)/len(good_user_ids):.2f}\")"
   ]
  },
  {
   "cell_type": "code",
   "execution_count": null,
   "id": "9fb98b4e-026c-4e39-8fec-88e53de4eac0",
   "metadata": {},
   "outputs": [],
   "source": [
    "good_user_movie_G = nx.from_pandas_edgelist(\n",
    "    good_ratings_df, source=\"userId\", target=\"movieId\", edge_attr=\"rating\")"
   ]
  },
  {
   "cell_type": "code",
   "execution_count": null,
   "id": "764192e3-d865-4660-aa44-57eaa98eb5f6",
   "metadata": {},
   "outputs": [],
   "source": [
    "# Pick a user and one of their highly-rated movies\n",
    "user = good_user_ids[321]\n",
    "user_reviews = good_user_movie_G[user]\n",
    "highest_rated_movie = max(\n",
    "    user_reviews,\n",
    "    key=lambda n: user_reviews[n].get(\"rating\", 0)\n",
    ")\n",
    "\n",
    "print(f\"highest rated movie for {user=} is \"\n",
    "      f\"{movie_id_name_map[highest_rated_movie]}, \"\n",
    "      f\"id: {highest_rated_movie}, \"\n",
    "      f\"rated: {user_reviews[highest_rated_movie]}\")"
   ]
  },
  {
   "cell_type": "code",
   "execution_count": null,
   "id": "e1a73938-3ab9-4086-b820-7ae0aa4e8b94",
   "metadata": {},
   "outputs": [],
   "source": [
    "# Create a list of nodes to compare the user's highest\n",
    "# rated movie to all other movies in the graph.\n",
    "ebunch = [(highest_rated_movie, n) for n in good_movie_ids[1:]\n",
    "          if n != highest_rated_movie]"
   ]
  },
  {
   "cell_type": "code",
   "execution_count": null,
   "id": "aacce305-c05f-4685-8cfe-08e0b48a7b80",
   "metadata": {},
   "outputs": [],
   "source": [
    "%%time\n",
    "# Run Jaccard Similarity \n",
    "jacc_coeffs = list(nx.jaccard_coefficient(good_user_movie_G, ebunch))"
   ]
  },
  {
   "cell_type": "code",
   "execution_count": null,
   "id": "59aaf9db-d31d-435c-8a8d-c2f4f1c1446f",
   "metadata": {},
   "outputs": [],
   "source": [
    "# Sort by coefficient value, which is the 3rd item in the tuples\n",
    "jacc_coeffs.sort(key=lambda t: t[2], reverse=True)  \n",
    "\n",
    "# Create a list of recommendations ordered by \"best\" to \"worst\" based on the\n",
    "# Jaccard Similarity coefficients and the movies already seen\n",
    "movies_seen = list(good_user_movie_G.neighbors(user))\n",
    "recommendations = [mid for (_, mid, _) in jacc_coeffs\n",
    "                   if mid not in movies_seen]\n",
    "if len(recommendations) > 0:\n",
    "    mid = recommendations[0]\n",
    "    print(f\"User ID {user} might like {movie_id_name_map[mid]} \"\n",
    "          f\"(movie ID: {mid})\")"
   ]
  },
  {
   "cell_type": "code",
   "execution_count": null,
   "id": "c3ad08a2-3f65-48ad-b43b-bb7ed767773e",
   "metadata": {},
   "outputs": [],
   "source": [
    "def print_similar_movies(movie_id, n=10, backend=\"networkx\"):\n",
    "    # ebunch is the list of node pairs to generate Jaccard Similarity\n",
    "    # coefficients for. This will generate a list of comparisons between\n",
    "    # movie_id and every other movie in the graph\n",
    "    ebunch = [(movie_id, n) for n in good_movie_ids[1:] if n != movie_id]\n",
    "\n",
    "    jacc_coeffs = list(nx.jaccard_coefficient(good_user_movie_G, ebunch, backend=backend))\n",
    "\n",
    "    jacc_coeffs.sort(key=lambda t: t[2], reverse=True)\n",
    "    print(f\"movies similar to {movie_id_name_map[movie_id]}:\")\n",
    "    for i in range(n):\n",
    "        (_, movieId, similarity) = jacc_coeffs[i]\n",
    "        print(f\"{movieId=},\\t{movie_id_name_map[movieId]})\n"
   ]
  },
  {
   "cell_type": "code",
   "execution_count": null,
   "id": "eff63f64-2ee9-495c-856e-5278baa94d71",
   "metadata": {},
   "outputs": [],
   "source": [
    "%%time\n",
    "print_similar_movies(highest_rated_movie)"
   ]
  },
  {
   "cell_type": "code",
   "execution_count": null,
   "id": "c296392e-0e60-4338-b602-2945c9fe0b33",
   "metadata": {},
   "outputs": [],
   "source": [
    "%%time\n",
    "# 1367: \"101 Dalmatians (1996)\"\n",
    "print_similar_movies(1367)"
   ]
  },
  {
   "cell_type": "code",
   "execution_count": null,
   "id": "e4b6a0f0-14de-47e1-8f7f-0a211178c509",
   "metadata": {},
   "outputs": [],
   "source": [
    "%%time\n",
    "# 1196: \"Star Wars: Episode V - The Empire Strikes Back (1980)\"\n",
    "print_similar_movies(1196)"
   ]
  },
  {
   "cell_type": "code",
   "execution_count": null,
   "id": "2911e5da-783b-4b48-8093-30295edc77a7",
   "metadata": {},
   "outputs": [],
   "source": [
    "%%time\n",
    "# 2105: \"Tron (1982)\"\n",
    "print_similar_movies(2105)"
   ]
  },
  {
   "cell_type": "code",
   "execution_count": null,
   "id": "2dab0a8e-a77b-4e7a-9dae-d9282a426b9b",
   "metadata": {},
   "outputs": [],
   "source": [
    "%%time\n",
    "# 4878: \"Donnie Darko (2001)\"\n",
    "print_similar_movies(4878)"
   ]
  },
  {
   "cell_type": "code",
   "execution_count": null,
   "id": "d20e20f7-8302-4f5d-94bf-909aa3715728",
   "metadata": {},
   "outputs": [],
   "source": [
    "%%time\n",
    "# 1301: \"Forbidden Planet (1956)\"\n",
    "print_similar_movies(1301)"
   ]
  },
  {
   "cell_type": "code",
   "execution_count": null,
   "id": "cccd169e-ee6e-4734-9f8d-7f3fd7662fd4",
   "metadata": {},
   "outputs": [],
   "source": [
    "%%time\n",
    "# 2139: \"\"Secret of NIMH, The (1982)\"\"\n",
    "print_similar_movies(2139)"
   ]
  },
  {
   "cell_type": "code",
   "execution_count": null,
   "id": "fd569826-109b-4e3a-92a2-6c3cfef659dd",
   "metadata": {},
   "outputs": [],
   "source": [
    "%%time\n",
    "# 106072: \"Thor: The Dark World (2013)\"\n",
    "print_similar_movies(106072)"
   ]
  },
  {
   "cell_type": "code",
   "execution_count": null,
   "id": "be944ff6-40b1-4f94-be77-1a1d52a5ffaf",
   "metadata": {},
   "outputs": [],
   "source": [
    "%%time\n",
    "# 318: \"\"Shawshank Redemption, The (1994)\"\"\n",
    "print_similar_movies(318)"
   ]
  }
 ],
 "metadata": {
  "kernelspec": {
   "display_name": "Python 3 (ipykernel)",
   "language": "python",
   "name": "python3"
  },
  "language_info": {
   "codemirror_mode": {
    "name": "ipython",
    "version": 3
   },
   "file_extension": ".py",
   "mimetype": "text/x-python",
   "name": "python",
   "nbconvert_exporter": "python",
   "pygments_lexer": "ipython3",
   "version": "3.10.16"
  }
 },
 "nbformat": 4,
 "nbformat_minor": 5
}
